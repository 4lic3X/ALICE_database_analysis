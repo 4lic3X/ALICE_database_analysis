{
 "cells": [
  {
   "cell_type": "markdown",
   "metadata": {},
   "source": [
    "# Clustering Stability Test\n",
    "\n",
    "In this notebook, we test the stability of clustering result for each clustering algorithms we used. This is done by boostrapping the data and calculate the adjusted rand index between the original clustering result and the boostrapped clustering result."
   ]
  },
  {
   "cell_type": "markdown",
   "metadata": {},
   "source": [
    "# Boostrap Dataset"
   ]
  },
  {
   "cell_type": "code",
   "execution_count": 1,
   "metadata": {},
   "outputs": [],
   "source": [
    "import pandas as pd\n",
    "\n",
    "survey_df = pd.read_csv(\"../data/survey.csv\")\n",
    "uids = set(survey_df[\"uid\"])\n",
    "\n",
    "data = pd.read_csv(\"../data/trial.csv\")\n",
    "data = data[data[\"uid\"].isin(uids)]\n",
    "\n",
    "# Normalize the position, the canvas size is 1000 x 600\n",
    "data[\"x\"] = data[\"x\"] / 1000\n",
    "data[\"y\"] = data[\"y\"] / 600"
   ]
  },
  {
   "cell_type": "code",
   "execution_count": 2,
   "metadata": {},
   "outputs": [],
   "source": [
    "from collections import defaultdict\n",
    "import random\n",
    "from sklearn.utils import resample\n",
    "import numpy as np\n",
    "\n",
    "\n",
    "random.seed(42)\n",
    "\n",
    "\n",
    "def boostrap_distance_matrix() -> dict[tuple[int, int], list[float]]:\n",
    "    distances = defaultdict(list)\n",
    "    bootstrapped_uids = resample(list(uids))\n",
    "\n",
    "    for uid in bootstrapped_uids:\n",
    "        # Get data of this participant\n",
    "        uid_data = data[data[\"uid\"] == uid]\n",
    "\n",
    "        for trial in range(1, 7):\n",
    "            # Get data of this trial\n",
    "            trial_data = uid_data[uid_data[\"trial_id\"] == trial]\n",
    "            records = trial_data.to_dict(\"records\")\n",
    "\n",
    "            for i in range(len(records)):\n",
    "                for j in range(i + 1, len(records)):\n",
    "                    # Get object pair tuple, make sure the smaller id is always first\n",
    "                    object_pair = (records[i][\"object_id\"], records[j][\"object_id\"])\n",
    "\n",
    "                    # Skip if the object pair is the same\n",
    "                    # This might happen when the participant submit the same trial multiple times\n",
    "                    # and changed the position of some objects\n",
    "                    if object_pair[0] == object_pair[1]:\n",
    "                        continue\n",
    "\n",
    "                    if object_pair[0] > object_pair[1]:\n",
    "                        object_pair = (object_pair[1], object_pair[0])\n",
    "\n",
    "                    # Calculate the distance between object i and j\n",
    "                    p1 = np.array([records[i][\"x\"], records[i][\"y\"]])\n",
    "                    p2 = np.array([records[j][\"x\"], records[j][\"y\"]])\n",
    "                    distance = np.linalg.norm(p1 - p2)\n",
    "\n",
    "                    # Add the distance to the list\n",
    "                    distances[object_pair].append(distance)\n",
    "\n",
    "    # Get the average distance of each object pair\n",
    "    average_distances = {\n",
    "        object_pair: np.mean(distances[object_pair]) for object_pair in distances\n",
    "    }\n",
    "\n",
    "    distance_matrix = np.zeros((30, 30))\n",
    "    for (i, j), d in average_distances.items():\n",
    "        distance_matrix[i - 1, j - 1] = d\n",
    "        distance_matrix[j - 1, i - 1] = d\n",
    "\n",
    "    return distance_matrix"
   ]
  },
  {
   "cell_type": "code",
   "execution_count": 3,
   "metadata": {},
   "outputs": [
    {
     "name": "stderr",
     "output_type": "stream",
     "text": [
      "/var/folders/3h/16r_n_t90kg2dd10vc578fjh0000gn/T/ipykernel_64516/3177196180.py:1: TqdmExperimentalWarning: Using `tqdm.autonotebook.tqdm` in notebook mode. Use `tqdm.tqdm` instead to force console mode (e.g. in jupyter console)\n",
      "  from tqdm.autonotebook import tqdm\n"
     ]
    },
    {
     "data": {
      "application/vnd.jupyter.widget-view+json": {
       "model_id": "ce66a1cf6afc4978b0fe51108253c2c3",
       "version_major": 2,
       "version_minor": 0
      },
      "text/plain": [
       "  0%|          | 0/1000 [00:00<?, ?it/s]"
      ]
     },
     "metadata": {},
     "output_type": "display_data"
    }
   ],
   "source": [
    "from tqdm.autonotebook import tqdm\n",
    "\n",
    "N_SIMULATIONS = 1000\n",
    "\n",
    "all_boostrapped_distance_matrices = [\n",
    "    boostrap_distance_matrix() for _ in tqdm(range(N_SIMULATIONS))\n",
    "]"
   ]
  },
  {
   "cell_type": "markdown",
   "metadata": {},
   "source": [
    "# Convert to MDS embeddings"
   ]
  },
  {
   "cell_type": "code",
   "execution_count": 4,
   "metadata": {},
   "outputs": [],
   "source": [
    "from sklearn.manifold import MDS\n",
    "\n",
    "BEST_K = 3\n",
    "\n",
    "\n",
    "def get_mds_embedding(distance_matrix):\n",
    "    mds = MDS(n_components=BEST_K, dissimilarity=\"precomputed\", random_state=42)\n",
    "    return mds.fit_transform(distance_matrix)"
   ]
  },
  {
   "cell_type": "code",
   "execution_count": 5,
   "metadata": {},
   "outputs": [],
   "source": [
    "all_mds_embeddings = [\n",
    "    get_mds_embedding(matrix) for matrix in all_boostrapped_distance_matrices\n",
    "]"
   ]
  },
  {
   "cell_type": "code",
   "execution_count": 6,
   "metadata": {},
   "outputs": [],
   "source": [
    "all_mds_distances_by_object_pair = []\n",
    "all_mds_distance_matrix = []\n",
    "\n",
    "for n in range(N_SIMULATIONS):\n",
    "    mds_distance_matrix = np.zeros((30, 30))\n",
    "    mds_distance_by_object_pair = {}\n",
    "\n",
    "    object_embeddings = all_mds_embeddings[n]\n",
    "    for i in range(30):\n",
    "        for j in range(30):\n",
    "            p1 = object_embeddings[i]\n",
    "            p2 = object_embeddings[j]\n",
    "            mds_distance_matrix[i, j] = np.linalg.norm(p1 - p2)\n",
    "\n",
    "            if i < j:\n",
    "                mds_distance_by_object_pair[(i + 1, j + 1)] = mds_distance_matrix[i, j]\n",
    "\n",
    "    all_mds_distances_by_object_pair.append(mds_distance_by_object_pair)\n",
    "    all_mds_distance_matrix.append(mds_distance_matrix)"
   ]
  },
  {
   "cell_type": "markdown",
   "metadata": {},
   "source": [
    "# Stability Measure"
   ]
  },
  {
   "cell_type": "code",
   "execution_count": 7,
   "metadata": {},
   "outputs": [],
   "source": [
    "from sklearn.metrics import adjusted_rand_score\n",
    "from itertools import combinations\n",
    "\n",
    "\n",
    "def clustering_stability(clustering_results):\n",
    "    pairwise_ari = []\n",
    "    for c1, c2 in combinations(clustering_results, 2):\n",
    "        pairwise_ari.append(adjusted_rand_score(c1, c2))\n",
    "\n",
    "    print(f\"Averaged ARI: {np.mean(pairwise_ari)}\")"
   ]
  },
  {
   "cell_type": "markdown",
   "metadata": {},
   "source": [
    "# KMeans Clustering"
   ]
  },
  {
   "cell_type": "code",
   "execution_count": 8,
   "metadata": {},
   "outputs": [],
   "source": [
    "from sklearn.cluster import KMeans\n",
    "from kneed import KneeLocator\n",
    "\n",
    "BEST_N_CLUSTERS = 7\n",
    "\n",
    "\n",
    "def get_kmeans_clusters(object_embeddings):\n",
    "    kmeans = KMeans(n_clusters=BEST_N_CLUSTERS, random_state=42)\n",
    "    kmeans.fit(object_embeddings)\n",
    "    return list(kmeans.labels_)"
   ]
  },
  {
   "cell_type": "code",
   "execution_count": 9,
   "metadata": {},
   "outputs": [],
   "source": [
    "kmeans_clustering_results = [\n",
    "    get_kmeans_clusters(object_embeddings) for object_embeddings in all_mds_embeddings\n",
    "]"
   ]
  },
  {
   "cell_type": "code",
   "execution_count": 10,
   "metadata": {},
   "outputs": [
    {
     "name": "stdout",
     "output_type": "stream",
     "text": [
      "Averaged ARI: 0.5484932022228171\n"
     ]
    }
   ],
   "source": [
    "clustering_stability(kmeans_clustering_results)"
   ]
  },
  {
   "cell_type": "markdown",
   "metadata": {},
   "source": [
    "# Hierarchical clustering"
   ]
  },
  {
   "cell_type": "code",
   "execution_count": 14,
   "metadata": {},
   "outputs": [],
   "source": [
    "from scipy.cluster.hierarchy import linkage, fcluster\n",
    "\n",
    "THRESHOLD = 1.1\n",
    "\n",
    "\n",
    "def get_linkage_clusters(distance_matrix):\n",
    "    linkage_matrix = linkage(distance_matrix, method=\"ward\", optimal_ordering=True)\n",
    "    linkage_clusters = fcluster(linkage_matrix, THRESHOLD, criterion=\"distance\")\n",
    "    linkage_clusters = [\n",
    "        l - 1 for l in linkage_clusters\n",
    "    ]  # offset by 1 to be consistent with other clustering results\n",
    "\n",
    "    linkage_categories = [set() for _ in range(max(linkage_clusters) + 1)]\n",
    "    for i, label in enumerate(linkage_clusters):\n",
    "        linkage_categories[label].add(i + 1)\n",
    "\n",
    "    return linkage_clusters"
   ]
  },
  {
   "cell_type": "code",
   "execution_count": 15,
   "metadata": {},
   "outputs": [
    {
     "name": "stderr",
     "output_type": "stream",
     "text": [
      "/var/folders/3h/16r_n_t90kg2dd10vc578fjh0000gn/T/ipykernel_64516/1512058463.py:7: ClusterWarning: scipy.cluster: The symmetric non-negative hollow observation matrix looks suspiciously like an uncondensed distance matrix\n",
      "  linkage_matrix = linkage(distance_matrix, method=\"ward\", optimal_ordering=True)\n"
     ]
    }
   ],
   "source": [
    "linkage_clustering_results = [\n",
    "    get_linkage_clusters(distance_matrix) for distance_matrix in all_mds_distance_matrix\n",
    "]"
   ]
  },
  {
   "cell_type": "code",
   "execution_count": 16,
   "metadata": {},
   "outputs": [
    {
     "name": "stdout",
     "output_type": "stream",
     "text": [
      "Averaged ARI: 0.573709592440113\n"
     ]
    }
   ],
   "source": [
    "clustering_stability(linkage_clustering_results)"
   ]
  },
  {
   "cell_type": "code",
   "execution_count": null,
   "metadata": {},
   "outputs": [],
   "source": []
  }
 ],
 "metadata": {
  "kernelspec": {
   "display_name": "alice_study",
   "language": "python",
   "name": "python3"
  },
  "language_info": {
   "codemirror_mode": {
    "name": "ipython",
    "version": 3
   },
   "file_extension": ".py",
   "mimetype": "text/x-python",
   "name": "python",
   "nbconvert_exporter": "python",
   "pygments_lexer": "ipython3",
   "version": "3.9.12"
  }
 },
 "nbformat": 4,
 "nbformat_minor": 2
}
