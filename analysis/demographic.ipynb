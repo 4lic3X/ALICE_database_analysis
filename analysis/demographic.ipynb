{
 "cells": [
  {
   "cell_type": "code",
   "execution_count": null,
   "metadata": {},
   "outputs": [],
   "source": [
    "import pandas as pd\n",
    "import rich\n",
    "\n",
    "describe_df = pd.read_csv(\"../data/describe.csv\")\n",
    "survey_df = pd.read_csv(\"../data/survey.csv\")\n",
    "coded_df = pd.read_excel(\"../data/coded_data.xlsx\", sheet_name=\"Sheet1\")"
   ]
  },
  {
   "cell_type": "markdown",
   "metadata": {},
   "source": [
    "# Number of students"
   ]
  },
  {
   "cell_type": "code",
   "execution_count": null,
   "metadata": {},
   "outputs": [],
   "source": [
    "# Students that participated in the experiment\n",
    "describe_uids = set(describe_df[\"uid\"])\n",
    "\n",
    "# Students that finished the experiment (submited the survey at the end)\n",
    "survey_uids = set(survey_df[\"uid\"])\n",
    "\n",
    "print(f\"# total recruited students: {len(describe_uids)}\")\n",
    "print(f\"# studnet completed the experiment: {len(survey_uids)}\")\n",
    "print(f\"# studnets that did not finish: {len(describe_uids - survey_uids)}\")\n",
    "\n",
    "print(f\"# students with valid answers: {len(coded_df)}\")\n",
    "print(f\"# excluded because of invalid answers: {len(survey_uids) - len(coded_df)}\")\n",
    "\n",
    "\n",
    "uids = set(coded_df[\"uid\"])"
   ]
  },
  {
   "cell_type": "markdown",
   "metadata": {},
   "source": [
    "# Demographic"
   ]
  },
  {
   "cell_type": "code",
   "execution_count": null,
   "metadata": {},
   "outputs": [],
   "source": [
    "survey_df = survey_df[survey_df[\"uid\"].isin(uids)]\n",
    "len(survey_df)"
   ]
  },
  {
   "cell_type": "code",
   "execution_count": null,
   "metadata": {},
   "outputs": [],
   "source": [
    "survey_df[\"gender\"].value_counts(dropna=False)"
   ]
  },
  {
   "cell_type": "code",
   "execution_count": null,
   "metadata": {},
   "outputs": [],
   "source": [
    "survey_df[\"age\"].describe()"
   ]
  },
  {
   "cell_type": "code",
   "execution_count": null,
   "metadata": {},
   "outputs": [],
   "source": [
    "race_stats = dict(survey_df[\"race\"].value_counts(dropna=False))\n",
    "rich.print(race_stats)"
   ]
  },
  {
   "cell_type": "code",
   "execution_count": null,
   "metadata": {},
   "outputs": [],
   "source": [
    "rich.print(\n",
    "    {race: f\"{cnt / len(survey_df) * 100:.2f}%\" for race, cnt in race_stats.items()}\n",
    ")"
   ]
  },
  {
   "cell_type": "code",
   "execution_count": null,
   "metadata": {},
   "outputs": [],
   "source": [
    "eng_stats = dict(survey_df[\"english_native\"].value_counts(dropna=False))\n",
    "rich.print(eng_stats)"
   ]
  },
  {
   "cell_type": "code",
   "execution_count": null,
   "metadata": {},
   "outputs": [],
   "source": [
    "rich.print(\n",
    "    {eng: f\"{cnt / len(survey_df) * 100:.2f}%\" for eng, cnt in eng_stats.items()}\n",
    ")"
   ]
  },
  {
   "cell_type": "code",
   "execution_count": null,
   "metadata": {},
   "outputs": [],
   "source": []
  }
 ],
 "metadata": {
  "kernelspec": {
   "display_name": "alice_study",
   "language": "python",
   "name": "python3"
  },
  "language_info": {
   "codemirror_mode": {
    "name": "ipython",
    "version": 3
   },
   "file_extension": ".py",
   "mimetype": "text/x-python",
   "name": "python",
   "nbconvert_exporter": "python",
   "pygments_lexer": "ipython3",
   "version": "3.9.12"
  }
 },
 "nbformat": 4,
 "nbformat_minor": 2
}
