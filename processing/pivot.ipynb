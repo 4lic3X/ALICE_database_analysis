{
 "cells": [
  {
   "cell_type": "markdown",
   "metadata": {},
   "source": [
    "# Pivotting the table \n",
    "\n",
    "This notebook transforms raw logging data from `../data/describe.csv` into a format suitable for coding by RA. \n",
    "\n",
    "The original table has each row representing a single response in a trial, with multiple rows combining to represent a participant's responses. To facilitate agreement analysis, we pivot the table, where each row corresponds to a participant and each column to a response.\n",
    "\n",
    "The processed data is stored in`../data/pivot.csv`, pending coding. The coded data is available in `../data/coded_data.xlsx`. \n",
    "\n",
    "For analyis we only consider valid participants. They are identified using information from `../data/survey.csv`; only students who completed the post-experiment survey are considered."
   ]
  },
  {
   "cell_type": "code",
   "execution_count": null,
   "metadata": {},
   "outputs": [],
   "source": [
    "import pandas as pd"
   ]
  },
  {
   "cell_type": "code",
   "execution_count": null,
   "metadata": {},
   "outputs": [],
   "source": [
    "survey_df = pd.read_csv(\"../data/survey.csv\")\n",
    "describe_df = pd.read_csv(\"../data/describe.csv\")"
   ]
  },
  {
   "cell_type": "code",
   "execution_count": null,
   "metadata": {},
   "outputs": [],
   "source": [
    "uids = set(survey_df[\"uid\"])\n",
    "len(uids)"
   ]
  },
  {
   "cell_type": "code",
   "execution_count": null,
   "metadata": {},
   "outputs": [],
   "source": [
    "describe_df = describe_df[describe_df[\"uid\"].isin(uids)]"
   ]
  },
  {
   "cell_type": "code",
   "execution_count": null,
   "metadata": {},
   "outputs": [],
   "source": [
    "# Sanity check, every study should have at least 30 trials\n",
    "for uid in uids:\n",
    "    n = len(describe_df[describe_df[\"uid\"] == uid])\n",
    "    assert n >= 30, f\"{uid}, len = {n}\""
   ]
  },
  {
   "cell_type": "code",
   "execution_count": null,
   "metadata": {},
   "outputs": [],
   "source": [
    "result = pd.pivot_table(\n",
    "    describe_df,\n",
    "    index=[\"uid\", \"name\"],\n",
    "    columns=\"object_id\",  # we want to convert `object_id` values into its own columns\n",
    "    values=[\"description\", \"seen\"],  # columns to keep\n",
    "    aggfunc=\"max\",  # in our case, each student will only have one description/seen for an object, `max` will give us the value\n",
    ")\n",
    "result.head()"
   ]
  },
  {
   "cell_type": "code",
   "execution_count": null,
   "metadata": {},
   "outputs": [],
   "source": [
    "# Flatten\n",
    "result.columns = [\n",
    "    \"description_object_\" + str(col[1])\n",
    "    if col[0] == \"description\"\n",
    "    else \"seen_object_\" + str(col[1])\n",
    "    for col in result.columns\n",
    "]\n",
    "result.reset_index(inplace=True)\n",
    "result.head()"
   ]
  },
  {
   "cell_type": "code",
   "execution_count": null,
   "metadata": {},
   "outputs": [],
   "source": [
    "result.to_csv(\"../data/pivot.csv\", index=False)"
   ]
  },
  {
   "cell_type": "code",
   "execution_count": null,
   "metadata": {},
   "outputs": [],
   "source": []
  }
 ],
 "metadata": {
  "kernelspec": {
   "display_name": "alice_study",
   "language": "python",
   "name": "python3"
  },
  "language_info": {
   "codemirror_mode": {
    "name": "ipython",
    "version": 3
   },
   "file_extension": ".py",
   "mimetype": "text/x-python",
   "name": "python",
   "nbconvert_exporter": "python",
   "pygments_lexer": "ipython3",
   "version": "3.9.12"
  }
 },
 "nbformat": 4,
 "nbformat_minor": 2
}
