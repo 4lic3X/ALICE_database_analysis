{
 "cells": [
  {
   "cell_type": "markdown",
   "metadata": {},
   "source": [
    "# Remove PII\n",
    "\n",
    "This notebook processes the original data downloaded from the experiment host and removed the identifiable information. The original data is not included in this repo.\n",
    "The processing includes:\n",
    "1. Remove the student name\n",
    "2. Mask the student ID with random UUID"
   ]
  },
  {
   "cell_type": "code",
   "execution_count": 1,
   "metadata": {},
   "outputs": [],
   "source": [
    "import pandas as pd\n",
    "\n",
    "# Replace the ROOT with the path where the original data is stored\n",
    "ROOT = \"../original_data\"\n",
    "\n",
    "trial_df = pd.read_csv(f\"{ROOT}/trial.csv\")\n",
    "describe_df = pd.read_csv(f\"{ROOT}/describe.csv\")\n",
    "survey_df = pd.read_csv(f\"{ROOT}/survey.csv\")"
   ]
  },
  {
   "cell_type": "code",
   "execution_count": 2,
   "metadata": {},
   "outputs": [],
   "source": [
    "student_ids = (\n",
    "    set(trial_df[\"uid\"].unique())\n",
    "    | set(describe_df[\"uid\"].unique())\n",
    "    | set(survey_df[\"uid\"].unique())\n",
    ")"
   ]
  },
  {
   "cell_type": "code",
   "execution_count": 3,
   "metadata": {},
   "outputs": [],
   "source": [
    "# setup a mapping from original student id to UUID\n",
    "\n",
    "import uuid\n",
    "\n",
    "student_id_to_uuid = {student_id: str(uuid.uuid4()) for student_id in student_ids}"
   ]
  },
  {
   "cell_type": "code",
   "execution_count": 4,
   "metadata": {},
   "outputs": [],
   "source": [
    "# Apply the mapping to the dataframes and remove the student name\n",
    "\n",
    "for df in (trial_df, describe_df, survey_df):\n",
    "    df[\"uid\"] = df[\"uid\"].map(student_id_to_uuid)\n",
    "    if \"name\" in df.columns:\n",
    "        df.drop(columns=\"name\", inplace=True)"
   ]
  },
  {
   "cell_type": "code",
   "execution_count": 5,
   "metadata": {},
   "outputs": [],
   "source": [
    "import os\n",
    "\n",
    "# Save the dataframes to the data folder\n",
    "OUT_FOLDER = \"../data\"\n",
    "\n",
    "if not os.path.exists(OUT_FOLDER):\n",
    "    os.mkdir(OUT_FOLDER)\n",
    "\n",
    "trial_df.to_csv(f\"{OUT_FOLDER}/trial.csv\", index=False)\n",
    "describe_df.to_csv(f\"{OUT_FOLDER}/describe.csv\", index=False)\n",
    "survey_df.to_csv(f\"{OUT_FOLDER}/survey.csv\", index=False)"
   ]
  },
  {
   "cell_type": "code",
   "execution_count": null,
   "metadata": {},
   "outputs": [],
   "source": []
  }
 ],
 "metadata": {
  "kernelspec": {
   "display_name": "alice_study",
   "language": "python",
   "name": "python3"
  },
  "language_info": {
   "codemirror_mode": {
    "name": "ipython",
    "version": 3
   },
   "file_extension": ".py",
   "mimetype": "text/x-python",
   "name": "python",
   "nbconvert_exporter": "python",
   "pygments_lexer": "ipython3",
   "version": "3.9.12"
  }
 },
 "nbformat": 4,
 "nbformat_minor": 2
}
